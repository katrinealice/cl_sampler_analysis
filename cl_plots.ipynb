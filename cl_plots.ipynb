{
 "cells": [
  {
   "cell_type": "markdown",
   "id": "fcbbbe29",
   "metadata": {},
   "source": [
    "## C_l sampler initial notes and tests"
   ]
  },
  {
   "cell_type": "code",
   "execution_count": 1,
   "id": "e4df1d78-7790-4fb4-86db-6bef9fdcc3ac",
   "metadata": {},
   "outputs": [],
   "source": [
    "import os\n",
    "import glob\n",
    "import sys\n",
    "\n",
    "import numpy as np\n",
    "import healpy as hp\n",
    "\n",
    "from scipy import signal\n",
    "from scipy.fftpack import fft, fft2, fftshift, fftfreq\n",
    "from scipy import integrate\n",
    "from scipy.stats import invgamma\n",
    "\n",
    "from pygdsm import GlobalSkyModel16\n",
    "from pygdsm import GlobalSkyModel\n",
    "\n",
    "\n",
    "# Plotting\n",
    "#import matplotlib.pyplot as plt\n",
    "import cmocean\n",
    "import cmocean.cm as cmo\n",
    "import seaborn as sns\n",
    "import pylab as plt\n",
    "import matplotlib as mpl\n",
    "import matplotlib.pyplot as pyplot\n",
    "from mpl_toolkits.axes_grid1 import make_axes_locatable\n",
    "from mpl_toolkits.axes_grid1.inset_locator import (inset_axes, InsetPosition, mark_inset)\n",
    "from matplotlib import ticker\n",
    "# tango colors for colorpairs\n",
    "sys.path.append(\"/Users/user/Documents/hera/tango-colors\")\n",
    "# from tango_colors import Tango\n",
    "# tango = Tango('HTML')\n",
    "import corner\n",
    "\n",
    "\n",
    "# HYDRA (for HERA antennas)\n",
    "sys.path.append(\"/Users/user/Documents/hera/Hydra\") # change this to your own path\n",
    "import hydra\n",
    "from hydra.utils import build_hex_array"
   ]
  },
  {
   "cell_type": "code",
   "execution_count": 2,
   "id": "433a3fa0-4e75-4ee9-85b6-280a43c5448d",
   "metadata": {},
   "outputs": [],
   "source": [
    "plt.rcParams['font.size'] = '18'\n",
    "plt.rcParams['savefig.facecolor']='white'\n",
    "plt.rcParams['axes.titlepad'] = 16\n",
    "plt.rcParams.update({\n",
    "    \"text.usetex\": True,\n",
    "    \"font.family\": \"serif\"\n",
    "})\n",
    "plt.rcParams[\"errorbar.capsize\"] = 5"
   ]
  },
  {
   "cell_type": "markdown",
   "id": "acc4b41c-6b4f-4916-b615-465ec139458a",
   "metadata": {},
   "source": [
    "# Function definitions"
   ]
  },
  {
   "cell_type": "markdown",
   "id": "0ddebe7f-53c3-4449-b368-cb12cad11488",
   "metadata": {},
   "source": [
    "## Mode conversion functions"
   ]
  },
  {
   "cell_type": "markdown",
   "id": "7cb1b01f-7a00-49c6-a534-7411a6e55192",
   "metadata": {},
   "source": [
    "### `healpy2alms`"
   ]
  },
  {
   "cell_type": "code",
   "execution_count": 3,
   "id": "d83c57fb-8d5c-4f99-91b5-41ab573b2b24",
   "metadata": {},
   "outputs": [],
   "source": [
    "def healpy2alms(healpy_modes):\n",
    "    \"\"\"\n",
    "    Takes a complex array of alms (positive modes only) and turns into\n",
    "    a real array split as [real, imag] making sure to remove the \n",
    "    m=0 modes from the imag-part.\n",
    "      \n",
    "     Parameters\n",
    "    ----------\n",
    "    * healpy_modes (ndarray (complex)):\n",
    "            Array of zeros except for the specified mode. \n",
    "            The array represents all positive (+m) modes including zeroth modes.\n",
    "    \n",
    "    Returns\n",
    "    -------\n",
    "    * alms (ndarray (floats))\n",
    "            Array of zeros except for the specified mode. \n",
    "            The array represents all positive (+m) modes including zero \n",
    "            and is split into a real (first) and imag (second) part. The\n",
    "            Imag part is smaller as the m=0 modes shouldn't contain and \n",
    "            imaginary part. \n",
    "    \"\"\"\n",
    "    lmax = hp.sphtfunc.Alm.getlmax(healpy_modes.size) # to remove the m=0 imag modes\n",
    "    alms = np.concatenate((healpy_modes.real,healpy_modes.imag[(lmax+1):]))\n",
    "        \n",
    "    return alms    \n"
   ]
  },
  {
   "cell_type": "markdown",
   "id": "585a56ab-0db3-4d37-b7a7-9f9a5ededa39",
   "metadata": {},
   "source": [
    "### `alms2healpy`"
   ]
  },
  {
   "cell_type": "code",
   "execution_count": 4,
   "id": "8b757da1-64ba-4048-b4b4-4d7e52f8d132",
   "metadata": {},
   "outputs": [],
   "source": [
    "def alms2healpy(alms, lmax):\n",
    "    \"\"\"\n",
    "    Takes a real array split as [real, imag] (without the m=0 modes \n",
    "    imag-part) and turns it into a complex array of alms (positive \n",
    "    modes only) ordered as in HEALpy.\n",
    "      \n",
    "     Parameters\n",
    "    ----------\n",
    "    * alms (ndarray (floats))\n",
    "            The array represents all positive (+m) modes including zero \n",
    "            and has double length, as real and imaginary values are split. \n",
    "            The first half is the real values.\n",
    "\n",
    "    \n",
    "    Returns\n",
    "    -------\n",
    "    * healpy_modes (ndarray (complex)):\n",
    "            Array of zeros except for the specified mode. \n",
    "            The array represents all positive (+m) modes including zeroth modes.\n",
    "            \n",
    "    \"\"\"\n",
    "    \n",
    "    real_imag_split_index = int((np.size(alms)+(lmax+1))/2)\n",
    "    real = alms[:real_imag_split_index]\n",
    "    \n",
    "    add_imag_m0_modes = np.zeros(lmax+1)\n",
    "    imag = np.concatenate((add_imag_m0_modes, alms[real_imag_split_index:]))\n",
    "    \n",
    "    healpy_modes = real + 1.j*imag\n",
    "    \n",
    "    return healpy_modes"
   ]
  },
  {
   "cell_type": "markdown",
   "id": "cb52082c-2cf7-4d69-90c8-6daff8e684f6",
   "metadata": {},
   "source": [
    "### `lm_order_alms`"
   ]
  },
  {
   "cell_type": "code",
   "execution_count": 5,
   "id": "a8164e2c-4024-4282-8605-966d729a576d",
   "metadata": {},
   "outputs": [],
   "source": [
    "def lm_order_alms(alms, lmax):\n",
    "    \"\"\"\n",
    "    Takes a real array split as [real, imag] (without the m=0 modes \n",
    "    imag-part) ordered as (m,l) and reorders as (l,m) (still omitting\n",
    "    the m=0 imaginary modes)\n",
    "      \n",
    "     Parameters\n",
    "    ----------\n",
    "    * alms (ndarray (floats))\n",
    "            The array represents all positive (+m) modes including zero \n",
    "            and has double length, as real and imaginary values are split. \n",
    "            The first half is the real values.\n",
    "\n",
    "    * lmax (integer)\n",
    "            The maximum ell-value \n",
    "\n",
    "    \n",
    "    Returns\n",
    "    -------\n",
    "    * healpy_modes (ndarray (complex)):\n",
    "            Array of zeros except for the specified mode. \n",
    "            The array represents all positive (+m) modes including zeroth modes.\n",
    "            \n",
    "    \"\"\"\n",
    "    \n",
    "    healpy_modes = alms2healpy(alms,lmax)\n",
    "\n",
    "    # intialise for-loop\n",
    "    real_modes = np.zeros_like(healpy_modes.real)\n",
    "    imag_modes = np.zeros_like(healpy_modes.imag[(lmax+1):])\n",
    "    real_idx = 0\n",
    "    imag_idx = 0\n",
    "    \n",
    "    for ell in np.arange(0,lmax+1):\n",
    "        for em in np.arange(0,ell+1): \n",
    "            healpy_idx = hp.sphtfunc.Alm.getidx(lmax, ell, em)\n",
    "            real_modes[real_idx] = healpy_modes[healpy_idx].real\n",
    "            real_idx +=1\n",
    "            \n",
    "            if em != 0:\n",
    "                imag_modes[imag_idx] = healpy_modes[healpy_idx].imag\n",
    "                imag_idx +=1\n",
    "\n",
    "    return np.concatenate((real_modes, imag_modes))\n"
   ]
  },
  {
   "cell_type": "markdown",
   "id": "7a8b24ac-8ede-4296-b147-a32522544be3",
   "metadata": {},
   "source": [
    "### `get_em_ell_idx`"
   ]
  },
  {
   "cell_type": "code",
   "execution_count": 6,
   "id": "a110fbdc-e151-4d4d-a5c5-45fd400875c6",
   "metadata": {},
   "outputs": [],
   "source": [
    "def get_em_ell_idx(lmax):\n",
    "    \"\"\"\n",
    "    Function to get the em, ell, and index of all the modes given the lmax. \n",
    "    (m,l)-ordering, (m-major ordering)\n",
    "\n",
    "    Parameters\n",
    "    ----------\n",
    "    * lmax: (int)\n",
    "        Maximum ell value for alms\n",
    "\n",
    "    Returns\n",
    "    -------\n",
    "    * ems: (list (int))\n",
    "        List of all the em values of the alms (m,l)-ordering (m-major)\n",
    "\n",
    "    * ells: (list (int))\n",
    "        List of all the ell values of the alms (m,l)-ordering (m-major)\n",
    "        \n",
    "    * idx: (list (int)) \n",
    "        List of all the indices for the alms\n",
    "\n",
    "    \"\"\"\n",
    "\n",
    "    ells_list = np.arange(0,lmax+1)\n",
    "    em_real = np.arange(0,lmax+1)\n",
    "    em_imag = np.arange(1,lmax+1)\n",
    "    \n",
    "    Nreal = 0\n",
    "    i = 0\n",
    "    idx = []\n",
    "    ems = []\n",
    "    ells = []\n",
    "\n",
    "    for em in em_real:\n",
    "        for ell in ells_list:\n",
    "            if ell >= em:\n",
    "                idx.append(i)\n",
    "                ems.append(em)\n",
    "                ells.append(ell)\n",
    "                \n",
    "                Nreal += 1\n",
    "                i +=1\n",
    "    \n",
    "    Nimag=0\n",
    "\n",
    "    for em in em_imag:\n",
    "        for ell in ells_list:\n",
    "            if ell >= em:\n",
    "                idx.append(i)\n",
    "                ems.append(em)\n",
    "                ells.append(ell)\n",
    "\n",
    "                Nimag += 1\n",
    "                i += 1\n",
    "\n",
    "    return ems, ells, idx"
   ]
  },
  {
   "cell_type": "markdown",
   "id": "2d449a71-c435-4510-8194-1d7de63bf898",
   "metadata": {},
   "source": [
    "### `find_common_true_index`"
   ]
  },
  {
   "cell_type": "code",
   "execution_count": 7,
   "id": "f26167b0-e009-4f9c-8754-0997959ccc07",
   "metadata": {},
   "outputs": [],
   "source": [
    "def find_common_true_index(arr_em, arr_ell, lmax):\n",
    "    \"\"\"\n",
    "    Find the common index between two arrays of same length consisting of true and false.\n",
    "\n",
    "    Parameters\n",
    "    ----------\n",
    "    * arr_em: (ndarray (boolean))\n",
    "        The m array to compare, consisting of true and false\n",
    "\n",
    "    * arr_ell: (ndarray (boolean))\n",
    "        The ell array to compare, consisting of true and false\n",
    "\n",
    "    Returns\n",
    "    -------\n",
    "    * idx_real: (int)\n",
    "        The common index for the real part\n",
    "\n",
    "    * idx_imag: (int)\n",
    "        The common index for the imag part\n",
    "\n",
    "    \"\"\"\n",
    "    real_imag_split_index = int(((lmax+1)**2 + (lmax+1))/2)\n",
    "\n",
    "    real_idx = []\n",
    "    imag_idx = []\n",
    "\n",
    "    for idx in range(len(arr_em)):\n",
    "        if arr_em[idx] and arr_ell[idx] and idx < real_imag_split_index:\n",
    "            real_idx = idx\n",
    "        elif arr_em[idx] and arr_ell[idx] and idx >= real_imag_split_index:\n",
    "            imag_idx = idx\n",
    "\n",
    "    return real_idx, imag_idx\n"
   ]
  },
  {
   "cell_type": "markdown",
   "id": "d75036fc-6f1b-494f-b415-2894b1396862",
   "metadata": {},
   "source": [
    "### `get_idx_ml`"
   ]
  },
  {
   "cell_type": "code",
   "execution_count": 8,
   "id": "0878055d-074a-4c76-b184-7dc4dd08ae15",
   "metadata": {},
   "outputs": [],
   "source": [
    "def get_idx_ml(em, ell, lmax):\n",
    "    \"\"\"\n",
    "    Get the global index for the alms (m,l)-ordering (m-major) given a m \n",
    "    and ell value. \n",
    "    \n",
    "    Parameters\n",
    "    ----------\n",
    "    * em: (int)\n",
    "        The em value of the mode. Note, em cannot be greater than the ell value.\n",
    "\n",
    "    * ell: (int)\n",
    "        The ell value of the mode. Note, ell has to be larger or equal to the em value.\n",
    "\n",
    "    * lmax: (int)\n",
    "        The lmax of the modes\n",
    "\n",
    "    Returns\n",
    "    -------\n",
    "    * common_idx_real: (int)\n",
    "        The global index of the real part of the spherical harmonic mode\n",
    "\n",
    "    * common_idx_imag: (int)\n",
    "        The global index of the imaginary part of the spherical harmonic mode. \n",
    "        There are no m=0 imaginary mode, so in case of m=0 it returns and empty list [].\n",
    "\n",
    "    \"\"\"\n",
    "\n",
    "    assert np.all(em <= ell), \"m cannot be greater than the ell value\"\n",
    "    ems_idx, ells_idx, idx = get_em_ell_idx(lmax)\n",
    "\n",
    "    em_check = np.array(ems_idx) == em\n",
    "    ell_check = np.array(ells_idx) == ell\n",
    "\n",
    "    common_idx_real, common_idx_imag = find_common_true_index(arr_em=em_check,\n",
    "                                                              arr_ell=ell_check,\n",
    "                                                              lmax=lmax)\n",
    "    if common_idx_imag == []:\n",
    "        idx_list = [common_idx_real]\n",
    "    else:\n",
    "        idx_list = [common_idx_real, common_idx_imag]\n",
    "        \n",
    "    for common_idx in idx_list:\n",
    "        assert common_idx == idx[common_idx], \"the global index does not match the index list\"\n",
    "        assert em == ems_idx[common_idx], \"The em corresponding to the global index does not match the chosen em\"\n",
    "        assert ell == ells_idx[common_idx], \"The ell corresponding to the global index does not match the vhosen ell\"\n",
    "\n",
    "    return common_idx_real, common_idx_imag"
   ]
  },
  {
   "cell_type": "markdown",
   "id": "191ff4ae-8f0b-43df-8dea-65b28f63f212",
   "metadata": {},
   "source": [
    "### `get_em_labels`"
   ]
  },
  {
   "cell_type": "code",
   "execution_count": 9,
   "id": "9f7d776b-a6a5-4641-8eca-9c88c7e1a6f0",
   "metadata": {},
   "outputs": [],
   "source": [
    "def get_em_labels(lmax):\n",
    "    ells = np.arange(0,lmax+1)\n",
    "    em_real = np.arange(0,lmax+1) \n",
    "    em_imag = np.arange(1,lmax+1)\n",
    "\n",
    "    # ylabel = []\n",
    "    # First append all real (l,m) values\n",
    "    Nreal = 0\n",
    "    i = 0\n",
    "    idx = []\n",
    "    ems = []\n",
    "    for em in em_real:\n",
    "        for ell in ells:\n",
    "            if ell >= em:\n",
    "                # ylabel.append((ell, em))\n",
    "                if ell == em:\n",
    "                    idx.append(i)\n",
    "                    if ell == 0:\n",
    "                        ems.append(fr'$m= {em}$')\n",
    "                    else:\n",
    "                        ems.append(fr'${em}$')\n",
    "                Nreal += 1\n",
    "                i += 1\n",
    "\n",
    "    # Then all imaginary -- note: no m=0 modes!  \n",
    "    Nimag = 0\n",
    "    for em in em_imag:\n",
    "        for ell in ells:\n",
    "            if ell >= em:\n",
    "                # ylabel.append((ell,em))\n",
    "                if ell == em:\n",
    "                    idx.append(i)\n",
    "                    ems.append(fr'${em}$')\n",
    "                Nimag += 1\n",
    "                i += 1\n",
    "    return ems, idx"
   ]
  },
  {
   "cell_type": "markdown",
   "id": "b6651db9-5a8e-41ce-af5e-a9d2dc54f27e",
   "metadata": {},
   "source": [
    "### `get_healpy_from_gsm`"
   ]
  },
  {
   "cell_type": "code",
   "execution_count": 10,
   "id": "27a4f647-fa6a-4e40-8fa6-f34bb03ce746",
   "metadata": {},
   "outputs": [],
   "source": [
    "def get_healpy_from_gsm(freq, lmax, nside=64, resolution=\"low\", output_model=False, output_map=False):\n",
    "    \"\"\"\n",
    "    Generate an array of alms (HEALpy ordered) from gsm 2016 (https://github.com/telegraphic/pygdsm)\n",
    "    \n",
    "    Parameters\n",
    "    ----------\n",
    "    * freqs: (float or np.array)\n",
    "        Frequency (in MHz) for which to return GSM model\n",
    "        \n",
    "    * lmax: (int)\n",
    "        Maximum l value for alms\n",
    "        \n",
    "    * nside: (int)\n",
    "        The NSIDE you want to upgrade/downgrade the map to. Default is nside=64.\n",
    "\n",
    "    * resolution: (str)\n",
    "        if \"low/lo/l\":  The GSM nside = 64  (default)\n",
    "        if \"hi/high/h\": The GSM nside = 1024 \n",
    "\n",
    "    * output_model: (Boolean) optional\n",
    "        If output_model=True: Outputs model generated from the GSM data. \n",
    "        If output_model=False (default): no model output.\n",
    "\n",
    "    * output_map: (Boolean) optional\n",
    "        If output_map=True: Outputs map generated from the GSM data. \n",
    "        If output_map=False (default): no map output.\n",
    "\n",
    "    Returns\n",
    "    -------\n",
    "    *healpy_modes: (np.array)\n",
    "        Complex array of alms with same size and ordering as in healpy (m,l)\n",
    "    \n",
    "    *gsm_2016: (PyGDSM 2016 model) optional\n",
    "        If output_model=True: Outputs model generated from the GSM data. \n",
    "        If output_model=False (default): no model output.\n",
    "\n",
    "    *gsm_map: (healpy map) optional\n",
    "        If output_map=True: Outputs map generated from the GSM data. \n",
    "        If output_map=False (default): no map output.\n",
    "    \n",
    "    \"\"\"\n",
    "    gsm_2016 = GlobalSkyModel16(freq_unit='MHz', resolution=resolution) \n",
    "    gsm_map = gsm_2016.generate(freqs=freq)\n",
    "    gsm_upgrade = hp.ud_grade(gsm_map, nside)\n",
    "    healpy_modes_gal = hp.map2alm(maps=gsm_upgrade,lmax=lmax)\n",
    "\n",
    "    # Per default it is in gal-coordinates, convert to equatorial\n",
    "    rot_gal2eq = hp.Rotator(coord=\"GC\")\n",
    "    healpy_modes_eq = rot_gal2eq.rotate_alm(healpy_modes_gal)\n",
    "\n",
    "    if output_model == False and output_map == False: # default\n",
    "        return healpy_modes_eq\n",
    "    elif output_model == False and output_map == True:\n",
    "        return healpy_modes_eq, gsm_map \n",
    "    elif output_model == True and output_map == False:\n",
    "        return healpy_modes_eq, gsm_2016 \n",
    "    else:\n",
    "        return healpy_modes_eq, gsm_2016, gsm_map"
   ]
  },
  {
   "cell_type": "code",
   "execution_count": null,
   "id": "89fa4c44-55d8-439f-a3ec-b6460a9ec6e6",
   "metadata": {},
   "outputs": [],
   "source": []
  },
  {
   "cell_type": "markdown",
   "id": "3b14a8c5-776f-4331-b3d3-01adc4ca8d55",
   "metadata": {},
   "source": [
    "# Main"
   ]
  },
  {
   "cell_type": "code",
   "execution_count": 17,
   "id": "2ae6952f-2cdc-4b74-abdf-d0f76fcb55f3",
   "metadata": {},
   "outputs": [
    {
     "data": {
      "text/plain": [
       "['cl_sampler_100']"
      ]
     },
     "execution_count": 17,
     "metadata": {},
     "output_type": "execute_result"
    }
   ],
   "source": [
    "# Display available folders\n",
    "parentpath = '/Users/user/Documents/hera/cl_sampler_analysis/data/'\n",
    "[file[52:] for file in sorted(glob.glob(parentpath+'*'))]"
   ]
  },
  {
   "cell_type": "code",
   "execution_count": 19,
   "id": "d3b82c0b-eeb9-4f38-9545-6665f717b6a6",
   "metadata": {},
   "outputs": [],
   "source": [
    "# Set paths and create figure folder within data folder\n",
    "path = parentpath+'cl_sampler_100/'\n",
    "figpath = path+'figures/'\n",
    "if not os.path.isdir(figpath): os.makedirs(figpath)"
   ]
  },
  {
   "cell_type": "code",
   "execution_count": 21,
   "id": "ea58167a-2f26-479e-81e6-4fa54ff7b41b",
   "metadata": {},
   "outputs": [
    {
     "data": {
      "text/plain": [
       "['vis_response',\n",
       " 'autos',\n",
       " 'x_true',\n",
       " 'inv_noise_cov',\n",
       " 'min_prior_std',\n",
       " 'inv_prior_cov',\n",
       " 'a_0',\n",
       " 'data_seed',\n",
       " 'prior_seed',\n",
       " 'incl_cosmic_var',\n",
       " 'wf_soln',\n",
       " 'nside',\n",
       " 'lmax',\n",
       " 'ants',\n",
       " 'beam_diameter',\n",
       " 'freqs',\n",
       " 'lsts_hours',\n",
       " 'precomp_time',\n",
       " 'avg_iter_time',\n",
       " 'total_time']"
      ]
     },
     "execution_count": 21,
     "metadata": {},
     "output_type": "execute_result"
    }
   ],
   "source": [
    "# Load precomputed data and see which are available\n",
    "try:\n",
    "    precomp = np.load(path+'precomputed_data.npz')\n",
    "except:\n",
    "    precomp = np.load(path+'precomputed_data_20_1.npz')\n",
    "precomp.files"
   ]
  },
  {
   "cell_type": "code",
   "execution_count": 22,
   "id": "f949b22b-bb36-425e-a4d9-acfaae296c03",
   "metadata": {},
   "outputs": [],
   "source": [
    "# Assign precomputed data \n",
    "vis_response = precomp['vis_response']\n",
    "autos = precomp['autos']\n",
    "x_true = precomp['x_true']\n",
    "inv_noise_cov = precomp['inv_noise_cov']\n",
    "min_prior_std = precomp['min_prior_std']\n",
    "inv_prior_cov = precomp['inv_prior_cov']\n",
    "a_0 = precomp['a_0']\n",
    "data_seed = precomp['data_seed']\n",
    "prior_seed = precomp['prior_seed']\n",
    "wf_soln = precomp['wf_soln']\n",
    "nside = precomp['nside']\n",
    "lmax = precomp['lmax']\n",
    "beam_diameter = precomp['beam_diameter']\n",
    "freqs = precomp['freqs']\n",
    "lsts_hours = precomp['lsts_hours']\n",
    "precomp_time = precomp['precomp_time']\n",
    "avg_iter_time = precomp['avg_iter_time']\n",
    "total_time = precomp['total_time']"
   ]
  },
  {
   "cell_type": "code",
   "execution_count": 23,
   "id": "0b1d82fb-345d-4c72-b523-37b57ba6dd39",
   "metadata": {},
   "outputs": [
    {
     "name": "stdout",
     "output_type": "stream",
     "text": [
      "['0', '1', '2', '3', '4', '5', '6', '7', '8', '9']\n"
     ]
    }
   ],
   "source": [
    "# Anttenas had to be in a separate file\n",
    "if os.path.isfile(path+'ant_pos.npz'):\n",
    "    ant_pos = np.load(path+'ant_pos.npz')\n",
    "    print(ant_pos.files)\n",
    "else: \n",
    "    # Assume its the (3,4,3) setup:\n",
    "    ant_pos = build_hex_array(hex_spec=(3,4), d=14.6)\n",
    "    print(r'`ant_pos` assumed to be in (3,4,3) position, 10 antennas')"
   ]
  },
  {
   "cell_type": "markdown",
   "id": "da566a9e-961d-4292-9d74-fc5b8175d9d1",
   "metadata": {},
   "source": [
    "## Get keys for results"
   ]
  },
  {
   "cell_type": "markdown",
   "id": "7cabbe9f-babd-4f36-9abf-4c6cd6af36ca",
   "metadata": {},
   "source": [
    "### alms"
   ]
  },
  {
   "cell_type": "code",
   "execution_count": 46,
   "id": "d69eccd7-f451-466f-8cba-4a2be9503353",
   "metadata": {},
   "outputs": [
    {
     "data": {
      "text/plain": [
       "['omega_0',\n",
       " 'omega_1',\n",
       " 'alm_random_seed',\n",
       " 'x_soln',\n",
       " 'rhs',\n",
       " 'convergence_info',\n",
       " 'solver_time',\n",
       " 'iteration_time']"
      ]
     },
     "execution_count": 46,
     "metadata": {},
     "output_type": "execute_result"
    }
   ],
   "source": [
    "# Load in one result file to get keys\n",
    "alm_file_list = glob.glob(path+'alms_*')\n",
    "alm_key_file = np.load(alm_file_list[0])\n",
    "alm_key_file.files"
   ]
  },
  {
   "cell_type": "markdown",
   "id": "7e6fc47b-f403-4850-a04e-916db7b51645",
   "metadata": {},
   "source": [
    "### C_ell"
   ]
  },
  {
   "cell_type": "code",
   "execution_count": 28,
   "id": "17219d65-0c8c-41b2-9719-a89ee5263dab",
   "metadata": {},
   "outputs": [
    {
     "data": {
      "text/plain": [
       "['sigma_ell', 'cl_samples', 'cl_random_seed']"
      ]
     },
     "execution_count": 28,
     "metadata": {},
     "output_type": "execute_result"
    }
   ],
   "source": [
    "cl_file_list = glob.glob(path+'cls_*')\n",
    "cl_key_file = np.load(cl_file_list[0])\n",
    "cl_key_file.files"
   ]
  },
  {
   "cell_type": "markdown",
   "id": "4e7327fe-5c0e-4c04-b378-451032b7a554",
   "metadata": {},
   "source": [
    "## Assign results"
   ]
  },
  {
   "cell_type": "code",
   "execution_count": 36,
   "id": "9c1fe60e-9b32-4797-8d9a-320c064b891b",
   "metadata": {},
   "outputs": [],
   "source": [
    "# Allocate arrays\n",
    "x_solns = np.empty((len(alm_file_list),len(alm_key_file['x_soln'])))\n",
    "sigma_ells = np.empty((len(cl_file_list),len(cl_key_file['sigma_ell'])))\n",
    "cl_samples = np.empty((len(cl_file_list),len(cl_key_file['cl_samples'])))"
   ]
  },
  {
   "cell_type": "code",
   "execution_count": 51,
   "id": "9f43eef5-dd03-4584-9c31-6806be14f40e",
   "metadata": {},
   "outputs": [],
   "source": [
    "# Load results and assign\n",
    "alm_file_list.sort()\n",
    "key = 0\n",
    "for filename in alm_file_list:\n",
    "    result = np.load(filename)\n",
    "    omega_0 = result['omega_0']\n",
    "    omega_1 = result['omega_1']\n",
    "    rhs = result['rhs']\n",
    "    \n",
    "    # Notify if any realisations didn't converge\n",
    "    convergence_info = result['convergence_info']\n",
    "    if np.any(convergence_info): print(convergence_info)\n",
    "    \n",
    "    # Combine solutions to array\n",
    "    x_soln = result['x_soln']\n",
    "    x_solns[key] = x_soln\n",
    "\n",
    "    key += 1"
   ]
  },
  {
   "cell_type": "code",
   "execution_count": null,
   "id": "9399e030-57ea-424a-a891-981cb035fd59",
   "metadata": {},
   "outputs": [],
   "source": []
  },
  {
   "cell_type": "code",
   "execution_count": null,
   "id": "0cfa46fd-797d-430e-a950-20b243e1792c",
   "metadata": {},
   "outputs": [],
   "source": [
    "cl_file_list.sort()\n",
    "key = 0\n",
    "for filename in cl_file_list:\n",
    "    result = np.load(filename)\n",
    "    \n",
    "    sigma_ell = result['sigma_ell']\n",
    "    cl_sample = result['cl_samples']\n",
    "\n",
    "    \n",
    "    # Combine solutions to array\n",
    "    sigma_ells[key] = sigma_ell\n",
    "\n",
    "    key += 1"
   ]
  },
  {
   "cell_type": "code",
   "execution_count": null,
   "id": "f60b0373-7ab3-4410-a2a3-e878dda0ff91",
   "metadata": {},
   "outputs": [],
   "source": []
  }
 ],
 "metadata": {
  "kernelspec": {
   "display_name": "Python 3 (ipykernel)",
   "language": "python",
   "name": "python3"
  },
  "language_info": {
   "codemirror_mode": {
    "name": "ipython",
    "version": 3
   },
   "file_extension": ".py",
   "mimetype": "text/x-python",
   "name": "python",
   "nbconvert_exporter": "python",
   "pygments_lexer": "ipython3",
   "version": "3.12.3"
  },
  "toc-autonumbering": false
 },
 "nbformat": 4,
 "nbformat_minor": 5
}
