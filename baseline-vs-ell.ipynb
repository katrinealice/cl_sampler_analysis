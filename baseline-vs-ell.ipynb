{
 "cells": [
  {
   "cell_type": "markdown",
   "id": "fcbbbe29",
   "metadata": {},
   "source": [
    "## C_l sampler initial notes and tests"
   ]
  },
  {
   "cell_type": "code",
   "execution_count": 1,
   "id": "e4df1d78-7790-4fb4-86db-6bef9fdcc3ac",
   "metadata": {},
   "outputs": [],
   "source": [
    "import os\n",
    "import glob\n",
    "import sys\n",
    "\n",
    "import numpy as np\n",
    "import healpy as hp\n",
    "\n",
    "from scipy import signal\n",
    "from scipy.fftpack import fft, fft2, fftshift, fftfreq\n",
    "from scipy import integrate\n",
    "from scipy.stats import invgamma\n",
    "\n",
    "from pygdsm import GlobalSkyModel16\n",
    "from pygdsm import GlobalSkyModel\n",
    "\n",
    "\n",
    "# Plotting\n",
    "#import matplotlib.pyplot as plt\n",
    "import cmocean\n",
    "import cmocean.cm as cmo\n",
    "import seaborn as sns\n",
    "import pylab as plt\n",
    "import matplotlib as mpl\n",
    "import matplotlib.pyplot as pyplot\n",
    "from mpl_toolkits.axes_grid1 import make_axes_locatable\n",
    "from mpl_toolkits.axes_grid1.inset_locator import (inset_axes, InsetPosition, mark_inset)\n",
    "from matplotlib import ticker\n",
    "# tango colors for colorpairs\n",
    "sys.path.append(\"/Users/user/Documents/hera/tango-colors\")\n",
    "# from tango_colors import Tango\n",
    "# tango = Tango('HTML')\n",
    "import corner\n",
    "\n",
    "\n",
    "# HYDRA (for HERA antennas)\n",
    "sys.path.append(\"/Users/user/Documents/hera/Hydra\") # change this to your own path\n",
    "import hydra\n",
    "from hydra.utils import build_hex_array"
   ]
  },
  {
   "cell_type": "code",
   "execution_count": 2,
   "id": "433a3fa0-4e75-4ee9-85b6-280a43c5448d",
   "metadata": {},
   "outputs": [],
   "source": [
    "plt.rcParams['font.size'] = '18'\n",
    "plt.rcParams['savefig.facecolor']='white'\n",
    "plt.rcParams['axes.titlepad'] = 16\n",
    "plt.rcParams.update({\n",
    "    \"text.usetex\": True,\n",
    "    \"font.family\": \"serif\"\n",
    "})\n",
    "plt.rcParams[\"errorbar.capsize\"] = 5"
   ]
  },
  {
   "cell_type": "markdown",
   "id": "a5d524e1-296e-4ff1-a2c8-ebbaafa35a0d",
   "metadata": {},
   "source": [
    "## `discrete_cmap()`"
   ]
  },
  {
   "cell_type": "code",
   "execution_count": 3,
   "id": "2bb7f1f8-83d8-4cce-9834-aa04cf45f1ca",
   "metadata": {},
   "outputs": [],
   "source": [
    "def discrete_cmap(N, base_cmap=None):\n",
    "    \"\"\"\n",
    "    Create an N-bin discrete colormap from the specified input map\n",
    "\n",
    "    Notes:\n",
    "    \n",
    "    If base_cmap is a string or None, you can simply do return plt.cm.get_cmap(base_cmap, N)\n",
    "    The following works for string, None, or a colormap instance:\n",
    "    \"\"\"\n",
    "\n",
    "    base = plt.colormaps.get_cmap(base_cmap)\n",
    "    color_list = base(np.linspace(0, 1, N))\n",
    "    cmap_name = base.name + str(N)\n",
    "    \n",
    "    return base.from_list(cmap_name, color_list, N)"
   ]
  },
  {
   "cell_type": "markdown",
   "id": "0da57675-f888-4c39-9e10-2d9328f55bc1",
   "metadata": {},
   "source": [
    "## `plot_ants()`"
   ]
  },
  {
   "cell_type": "code",
   "execution_count": 36,
   "id": "277ee8d9-1a39-44e9-aa51-8ba1e3aff75c",
   "metadata": {},
   "outputs": [],
   "source": [
    "def plot_ants(radius,ant_pos, \n",
    "              # file_name, \n",
    "              grid_spacing=1, display=False, ax=None,\n",
    "             antcolor=None):\n",
    "    # convert npz file to dict\n",
    "    ant_dict = dict(ant_pos)\n",
    "\n",
    "    cmap10_fg = discrete_cmap(10,cmo.dense)\n",
    "    # cmap10_bg = discrete_cmap(10,cmo.dense)\n",
    "    if antcolor == None:\n",
    "        color = cmap10_fg(1)\n",
    "    else:\n",
    "        color = antcolor\n",
    "    bgcolor = 'lavenderblush'#cmap10_fg(1)\n",
    "    \n",
    "    # fig, ax = plt.subplots(ncols=1, figsize=(10,6)) \n",
    "    for key in ant_dict: \n",
    "        ant = ant_dict[key]\n",
    "        print(ant)\n",
    "        dish = mpl.patches.Circle(xy=(ant[0], ant[1]),\n",
    "                                          radius =radius,\n",
    "                                          zorder=10, color=color,lw=0)\n",
    "        ax.add_patch(dish)\n",
    "        if float(key) < 10:\n",
    "            ax.annotate(key, xy=(ant[0]-0.12,ant[1]-0.14), xycoords='data', zorder=10, fontsize='11')\n",
    "        else:\n",
    "            # double digit numbers need more correction\n",
    "            ax.annotate(key, xy=(ant[0]-0.12,ant[1]-0.12), xycoords='data', zorder=10, fontsize='11')\n",
    "        plt.axis('equal')\n",
    "        plt.xlabel('East [ m ]', fontsize='12')\n",
    "        plt.ylabel('North [ m ]', fontsize='12')\n",
    "\n",
    "    # Style\n",
    "    # ax.set_facecolor(bgcolor)\n",
    "    # ax.spines[:].set_color('white')\n",
    "        \n",
    "    # Set tick marks to match grid spacing\n",
    "    ax.xaxis.set_major_locator(ticker.MultipleLocator(grid_spacing))\n",
    "    ax.yaxis.set_major_locator(ticker.MultipleLocator(grid_spacing))\n",
    "    ax.tick_params(labelsize=12)\n",
    "    \n",
    "    plt.grid(color='0.7', ls='-', zorder=0)  \n",
    "    \n",
    "    # fig.savefig(file_name+'.png', \n",
    "    #         bbox_inches='tight', \n",
    "    #         transparent=False, \n",
    "    #         dpi=300,#fig.dpi,\n",
    "    #         facecolor='white')\n",
    "\n",
    "    # if display == False:\n",
    "    #     plt.close()\n",
    "\n",
    "    plt.close()\n"
   ]
  },
  {
   "cell_type": "markdown",
   "id": "3b14a8c5-776f-4331-b3d3-01adc4ca8d55",
   "metadata": {},
   "source": [
    "# Main"
   ]
  },
  {
   "cell_type": "code",
   "execution_count": 5,
   "id": "2ae6952f-2cdc-4b74-abdf-d0f76fcb55f3",
   "metadata": {},
   "outputs": [
    {
     "data": {
      "text/plain": [
       "['04-10-24_vis_response_freq_test_plots',\n",
       " '10-10-24_tol_broad',\n",
       " '10-10-24_trace_plots',\n",
       " '10-10-24_vis_response_freq_test_plots',\n",
       " '14-10-24_trace_plots',\n",
       " '400MHz_1m',\n",
       " '450MHz_1m',\n",
       " '500MHz_1m',\n",
       " 'cl_3m_test',\n",
       " 'cl_lmax_20',\n",
       " 'cl_sampler_100',\n",
       " 'freq_1d_test',\n",
       " 'trace_plots',\n",
       " 'vis_response_freq_test_plots']"
      ]
     },
     "execution_count": 5,
     "metadata": {},
     "output_type": "execute_result"
    }
   ],
   "source": [
    "# Display available folders\n",
    "parentpath = '/Users/user/Documents/hera/cl_sampler_analysis/data/'\n",
    "[file[52:] for file in sorted(glob.glob(parentpath+'*'))]"
   ]
  },
  {
   "cell_type": "code",
   "execution_count": 6,
   "id": "d3b82c0b-eeb9-4f38-9545-6665f717b6a6",
   "metadata": {},
   "outputs": [],
   "source": [
    "# Set paths and create figure folder within data folder\n",
    "path = parentpath+'400MHz_1m/'\n",
    "figpath = path+'figures/'\n",
    "if not os.path.isdir(figpath): os.makedirs(figpath)"
   ]
  },
  {
   "cell_type": "code",
   "execution_count": 7,
   "id": "ea58167a-2f26-479e-81e6-4fa54ff7b41b",
   "metadata": {},
   "outputs": [
    {
     "data": {
      "text/plain": [
       "['vis_response',\n",
       " 'autos',\n",
       " 'x_true',\n",
       " 'inv_noise_cov',\n",
       " 'min_prior_std',\n",
       " 'inv_prior_cov',\n",
       " 'a_0',\n",
       " 'data_seed',\n",
       " 'prior_seed',\n",
       " 'incl_cosmic_var',\n",
       " 'wf_soln',\n",
       " 'nside',\n",
       " 'lmax',\n",
       " 'ants',\n",
       " 'dish_diameter',\n",
       " 'freqs',\n",
       " 'lsts_hours',\n",
       " 'precomp_time']"
      ]
     },
     "execution_count": 7,
     "metadata": {},
     "output_type": "execute_result"
    }
   ],
   "source": [
    "# Load precomputed data and see which are available\n",
    "try:\n",
    "    precomp = np.load(path+'precomputed_data.npz')\n",
    "except:\n",
    "    precomp = np.load(path+'precomputed_data_20_1.npz')\n",
    "precomp.files"
   ]
  },
  {
   "cell_type": "code",
   "execution_count": 8,
   "id": "f949b22b-bb36-425e-a4d9-acfaae296c03",
   "metadata": {},
   "outputs": [],
   "source": [
    "# Assign precomputed data \n",
    "vis_response = precomp['vis_response']\n",
    "autos = precomp['autos']\n",
    "x_true = precomp['x_true']\n",
    "inv_noise_cov = precomp['inv_noise_cov']\n",
    "min_prior_std = precomp['min_prior_std']\n",
    "inv_prior_cov = precomp['inv_prior_cov']\n",
    "a_0 = precomp['a_0']\n",
    "data_seed = precomp['data_seed']\n",
    "prior_seed = precomp['prior_seed']\n",
    "wf_soln = precomp['wf_soln']\n",
    "nside = precomp['nside']\n",
    "lmax = precomp['lmax']\n",
    "dish_diameter = precomp['dish_diameter']\n",
    "freqs = precomp['freqs']\n",
    "lsts_hours = precomp['lsts_hours']\n",
    "precomp_time = precomp['precomp_time']\n",
    "# avg_iter_time = precomp['avg_iter_time']\n",
    "# total_time = precomp['total_time']"
   ]
  },
  {
   "cell_type": "code",
   "execution_count": 9,
   "id": "8b433cc1-a5c2-4d18-ba1f-dd4ed1200784",
   "metadata": {},
   "outputs": [],
   "source": [
    "# print(precomp_time,avg_iter_time, total_time)"
   ]
  },
  {
   "cell_type": "code",
   "execution_count": 10,
   "id": "0b1d82fb-345d-4c72-b523-37b57ba6dd39",
   "metadata": {},
   "outputs": [
    {
     "name": "stdout",
     "output_type": "stream",
     "text": [
      "['0', '1', '2', '3', '4', '5', '6', '7', '8', '9']\n"
     ]
    }
   ],
   "source": [
    "# Anttenas had to be in a separate file\n",
    "ant_pos = np.load(path+'ant_pos.npz')\n",
    "print(ant_pos.files)\n",
    "\n",
    "dict_ants = dict(ant_pos)"
   ]
  },
  {
   "cell_type": "markdown",
   "id": "9de5266b-fed7-4e7b-945b-9609ddbb010c",
   "metadata": {},
   "source": [
    "## baseline length and ell"
   ]
  },
  {
   "cell_type": "code",
   "execution_count": 40,
   "id": "58dd72f4-e18c-4624-8e10-fc5e0dfefa61",
   "metadata": {},
   "outputs": [
    {
     "name": "stdout",
     "output_type": "stream",
     "text": [
      "[-1.5        -1.29903811  0.        ]\n",
      "[ 0.         -1.29903811  0.        ]\n",
      "[ 1.5        -1.29903811  0.        ]\n",
      "[-2.25  0.    0.  ]\n",
      "[-0.75  0.    0.  ]\n",
      "[0.75 0.   0.  ]\n",
      "[2.25 0.   0.  ]\n",
      "[-1.5         1.29903811  0.        ]\n",
      "[0.         1.29903811 0.        ]\n",
      "[1.5        1.29903811 0.        ]\n"
     ]
    },
    {
     "data": {
      "image/png": "[encoded data removed]",
      "text/plain": [
       "<Figure size 700x700 with 2 Axes>"
      ]
     },
     "execution_count": 40,
     "metadata": {},
     "output_type": "execute_result"
    }
   ],
   "source": [
    "beam_diameter = dish_diameter        # m\n",
    "speed_of_light = 2.998e08            # m/s\n",
    "fwhm_rad = speed_of_light/(freqs[0]*beam_diameter)  # radian \n",
    "fwhm_deg = np.rad2deg(fwhm_rad)\n",
    "freq_list = np.linspace(400,800,100)\n",
    "\n",
    "# The errorbar \\delta \\ell \\simeq np.pi / FWHM(rad) \n",
    "delta_ell = np.pi/fwhm_rad \n",
    "\n",
    "bl_lengths = np.array([np.linalg.norm(dict_ants['0']-dict_ants['1']), # meters\n",
    "                       np.linalg.norm(dict_ants['0']-dict_ants['7']),\n",
    "                       np.linalg.norm(dict_ants['0']-dict_ants['8']),\n",
    "                       np.linalg.norm(dict_ants['0']-dict_ants['9']),\n",
    "                       np.linalg.norm(dict_ants['3']-dict_ants['6'])])\n",
    "\n",
    "   \n",
    "fig, ax = plt.subplots(ncols=1, figsize=(7,7)) \n",
    "cmap5 = discrete_cmap(5, cmocean.tools.crop_by_percent(cmo.dense_r, 30, which='both', N=None))\n",
    "\n",
    "for i, bl in enumerate(np.flip(bl_lengths)):\n",
    "    ell_measured = np.pi * bl /(speed_of_light/freq_list)*1e06\n",
    "    ax.fill_between(freq_list, ell_measured-delta_ell, ell_measured+delta_ell, alpha=0.6, color=cmap5(i), linewidth=0, zorder = i,  label=r'$b=$'+f' {bl:.1f} m')\n",
    "    ax.plot(freq_list, ell_measured, color='lavenderblush', zorder = 100+i, lw=2)\n",
    "\n",
    "# ax.axvline(100+0.1,ls=\"--\",color='0.2',lw=2, zorder = 200)  # b (nlsts) \n",
    "ax.axhline(20,ls='--', lw=3, color='darkslateblue', zorder = 210)\n",
    "# ax.axhline(30,ls='--', lw=2, color='purple', zorder = 200)\n",
    "# ax.axhspan(20, 50, color='white', alpha=0.4, lw=0, zorder=200) # shaded version\n",
    "\n",
    "\n",
    "ax.legend(bbox_to_anchor=(0, 1.02, 1, 0.2), loc=\"lower left\", #title='Baseline length',\n",
    "               mode=\"expand\", borderaxespad=0, ncol=3,frameon=False, fontsize=16)\n",
    "\n",
    "\n",
    "plt.xlabel('Frequency, MHz')\n",
    "plt.ylabel(r'$\\ell$-value')\n",
    "ax.set_xlim([freq_list[0],freq_list[-1]])\n",
    "ax.set_ylim([0,50])\n",
    "ax.tick_params(length=8)\n",
    "\n",
    "# create new axes for insert of correlation matrix\n",
    "extra_ax_1 = fig.add_axes([0.22, 0.655, 0.3, 0.2])  #lbwh non shaded version\n",
    "# extra_ax_1 = fig.add_axes([0.22, 0.6, 0.35, 0.25])  #lbwh shaded version\n",
    "\n",
    "\n",
    "plot_ants(radius=dish_diameter/2,\n",
    "             ant_pos=ant_pos,\n",
    "             ax=extra_ax_1, grid_spacing=1.,\n",
    "         antcolor='#F1E3F3')\n",
    "\n",
    "fig.savefig(figpath+'baseline_vs_ell'+'.pdf', \n",
    "        bbox_inches='tight', \n",
    "        transparent=False, \n",
    "        dpi=300,#fig.dpi,\n",
    "        facecolor='white')\n",
    "\n",
    "\n",
    "fig"
   ]
  },
  {
   "cell_type": "code",
   "execution_count": null,
   "id": "baebbc5f-866f-4a27-8c56-1edc07347931",
   "metadata": {},
   "outputs": [],
   "source": []
  },
  {
   "cell_type": "code",
   "execution_count": null,
   "id": "063718e1-dbdb-440f-9386-5df4036103b8",
   "metadata": {},
   "outputs": [],
   "source": []
  }
 ],
 "metadata": {
  "kernelspec": {
   "display_name": "Python 3 (ipykernel)",
   "language": "python",
   "name": "python3"
  },
  "language_info": {
   "codemirror_mode": {
    "name": "ipython",
    "version": 3
   },
   "file_extension": ".py",
   "mimetype": "text/x-python",
   "name": "python",
   "nbconvert_exporter": "python",
   "pygments_lexer": "ipython3",
   "version": "3.12.3"
  },
  "toc-autonumbering": false
 },
 "nbformat": 4,
 "nbformat_minor": 5
}
